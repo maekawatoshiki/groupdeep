{
 "cells": [
  {
   "cell_type": "code",
   "execution_count": 1,
   "metadata": {
    "collapsed": false
   },
   "outputs": [],
   "source": [
    "import os\n",
    "import tensorflow as tf\n",
    "import numpy as np\n",
    "import zipfile\n",
    "import random\n",
    "import collections\n",
    "import pickle"
   ]
  },
  {
   "cell_type": "code",
   "execution_count": 2,
   "metadata": {
    "collapsed": false
   },
   "outputs": [
    {
     "name": "stdout",
     "output_type": "stream",
     "text": [
      "[0]\n",
      "[1, 0]\n",
      "[1, 0, 2, 4, 3, 5, 7, 6, 8, 9]\n",
      "[1, 0, 2, 4, 3, 5, 7, 6, 8, 10, 9]\n"
     ]
    }
   ],
   "source": [
    "def grammar(length):\n",
    "    mygrammar = [1, 0, 2]\n",
    "    if length <= 0:\n",
    "        raise ValueError('Length should be >= 1') \n",
    "    if length == 1:\n",
    "        return [0]\n",
    "    if length == 2:\n",
    "        return [1,0]\n",
    "    for i in range(3,length):\n",
    "        if length % 3 == 1 and i == length - 1:\n",
    "            next_pos = length - 1\n",
    "        else:\n",
    "            next_pos = mygrammar[i-3] + 3\n",
    "        mygrammar.append(next_pos)\n",
    "    return mygrammar\n",
    "\n",
    "print(grammar(1))\n",
    "print(grammar(2))\n",
    "print(grammar(10))\n",
    "print(grammar(11))"
   ]
  },
  {
   "cell_type": "code",
   "execution_count": 3,
   "metadata": {
    "collapsed": false
   },
   "outputs": [
    {
     "name": "stdout",
     "output_type": "stream",
     "text": [
      "neural machine translation\n",
      "7611\n"
     ]
    }
   ],
   "source": [
    "def encode(text):\n",
    "    \"\"\" Numberize a sequence \"\"\"\n",
    "    words = text.split()\n",
    "    new_text = ''\n",
    "    for i in grammar(len(words)):\n",
    "        new_text += str(len(words[i]))\n",
    "    return new_text\n",
    "\n",
    "test = 'neural machine translation'\n",
    "print(test)\n",
    "print(encode(test))"
   ]
  },
  {
   "cell_type": "code",
   "execution_count": 4,
   "metadata": {
    "collapsed": false
   },
   "outputs": [],
   "source": [
    "with open('dicts/dictionary.pickle', 'rb') as handle:\n",
    "  dictionary = pickle.load(handle)\n",
    "with open('dicts/reverse_dictionary.pickle', 'rb') as handle:\n",
    "  reverse_dictionary = pickle.load(handle)"
   ]
  },
  {
   "cell_type": "code",
   "execution_count": 113,
   "metadata": {
    "collapsed": false
   },
   "outputs": [
    {
     "name": "stdout",
     "output_type": "stream",
     "text": [
      "130\n"
     ]
    }
   ],
   "source": [
    "def word2id(word):\n",
    "    return dictionary.get(word, 0)\n",
    "  \n",
    "def id2num(num_id):\n",
    "  if num_id < 10:\n",
    "    return str(num_id)\n",
    "  if num_id == PAD_ID:\n",
    "    return 'P'\n",
    "  if num_id == GO_ID:\n",
    "    return 'G'\n",
    "  if num_id == EOS_ID:\n",
    "    return 'E'\n",
    "\n",
    "def gen_text(predictions):\n",
    "  text = ''\n",
    "  for onehot in predictions:\n",
    "    num = id2num(np.argmax(onehot[0]))\n",
    "    if num != 'E':\n",
    "      text += num\n",
    "    else:\n",
    "      return text\n",
    "  return text\n",
    "\n",
    "print(word2id('life'))"
   ]
  },
  {
   "cell_type": "code",
   "execution_count": 71,
   "metadata": {
    "collapsed": true
   },
   "outputs": [],
   "source": [
    "class BatchGenerator(object):\n",
    "  def __init__(self, text, batch_size, global_id = 0, length = None):\n",
    "    self._words = text.split()\n",
    "    self._text_size = len(text)\n",
    "    self._batch_size = batch_size\n",
    "    self._global_id = global_id\n",
    "    self._length = length\n",
    "  \n",
    "  def next(self):\n",
    "    input_sequences = list()\n",
    "    encoder_inputs = list()\n",
    "    decoder_inputs = list()\n",
    "    labels = list()\n",
    "    weights = list()\n",
    "\n",
    "    for i in range(self._batch_size):\n",
    "      if self._length == None:\n",
    "        length = random.randint(1,MAX_INPUT_SEQUENCE_LENGTH)\n",
    "      else:\n",
    "        length = self._length\n",
    "      input_words = self._words[self._global_id:self._global_id+length]\n",
    "      input_word_ids = [word2id(word) for word in input_words]\n",
    "      \n",
    "      # reverse list and add padding\n",
    "      reverse_input_word_ids = [0]*(MAX_INPUT_SEQUENCE_LENGTH-len(input_word_ids)) + input_word_ids[::-1]\n",
    "      input_sequence = ' '.join(input_words)\n",
    "      label_sequence = encode(input_sequence)\n",
    "      label_word_ids = [int(num) for num in label_sequence]\n",
    "      weight = [1.0]*len(label_word_ids)\n",
    "\n",
    "      # append to lists\n",
    "      input_sequences.append(input_sequence)\n",
    "      encoder_inputs.append(reverse_input_word_ids)\n",
    "      decoder_inputs.append([GO_ID] + label_word_ids + [PAD_ID]*(MAX_OUTPUT_SEQUENCE_LENGTH-len(label_word_ids)))\n",
    "      labels.append(label_word_ids + [EOS_ID] + [PAD_ID]*(MAX_OUTPUT_SEQUENCE_LENGTH-len(label_word_ids)))\n",
    "      weights.append(weight + [1.0] + [0.0]*((MAX_OUTPUT_SEQUENCE_LENGTH-len(weight))))\n",
    "\n",
    "      # Update global_id\n",
    "      new_global_id = self._global_id + length\n",
    "      if new_global_id > len(self._words) - self._batch_size*MAX_INPUT_SEQUENCE_LENGTH:\n",
    "        self._global_id = 0\n",
    "      else:\n",
    "        self._global_id = new_global_id\n",
    "\n",
    "    return input_sequences, np.array(encoder_inputs).T, np.array(decoder_inputs).T, np.array(labels).T, np.array(weights).T"
   ]
  },
  {
   "cell_type": "code",
   "execution_count": 72,
   "metadata": {
    "collapsed": false
   },
   "outputs": [
    {
     "name": "stdout",
     "output_type": "stream",
     "text": [
      "sequences ['i have a pen', 'i have a apple']\n",
      "encoder_inputs [[0, 0], [0, 0], [0, 0], [0, 0], [0, 0], [0, 0], [5576, 1221], [7, 7], [40, 40], [73, 73]]\n",
      "decoder_inputs [[11, 11], [4, 4], [1, 1], [1, 1], [3, 5], [10, 10], [10, 10], [10, 10], [10, 10], [10, 10], [10, 10], [10, 10], [10, 10], [10, 10], [10, 10], [10, 10], [10, 10], [10, 10], [10, 10], [10, 10], [10, 10]]\n",
      "labels [[4, 4], [1, 1], [1, 1], [3, 5], [12, 12], [10, 10], [10, 10], [10, 10], [10, 10], [10, 10], [10, 10], [10, 10], [10, 10], [10, 10], [10, 10], [10, 10], [10, 10], [10, 10], [10, 10], [10, 10], [10, 10]]\n",
      "weights [[1.0, 1.0], [1.0, 1.0], [1.0, 1.0], [1.0, 1.0], [1.0, 1.0], [0.0, 0.0], [0.0, 0.0], [0.0, 0.0], [0.0, 0.0], [0.0, 0.0], [0.0, 0.0], [0.0, 0.0], [0.0, 0.0], [0.0, 0.0], [0.0, 0.0], [0.0, 0.0], [0.0, 0.0], [0.0, 0.0], [0.0, 0.0], [0.0, 0.0], [0.0, 0.0]]\n"
     ]
    }
   ],
   "source": [
    "sample_text = 'i have a pen i have a apple oh apple pen i have a pen i have a pineapple oh pineapple pen apple pen pineapple pen'\n",
    "sample_batches = BatchGenerator(sample_text, 2, length=4)\n",
    "sample_sequences, sample_encoder_inputs, sample_decoder_inputs, sample_labels, sample_weights = sample_batches.next()\n",
    "\n",
    "print('sequences {}'.format(sample_sequences))\n",
    "print('encoder_inputs {}'.format(sample_encoder_inputs.tolist()))\n",
    "print('decoder_inputs {}'.format(sample_decoder_inputs.tolist()))\n",
    "print('labels {}'.format(sample_labels.tolist()))\n",
    "print('weights {}'.format(sample_weights.tolist()))"
   ]
  },
  {
   "cell_type": "code",
   "execution_count": 6,
   "metadata": {
    "collapsed": false
   },
   "outputs": [],
   "source": [
    "MAX_INPUT_SEQUENCE_LENGTH = 10\n",
    "MAX_OUTPUT_SEQUENCE_LENGTH = 20\n",
    "PAD_ID = 10\n",
    "GO_ID = 11\n",
    "EOS_ID = 12\n",
    "vocabulary_size = 50000\n",
    "lstm_size = 256"
   ]
  },
  {
   "cell_type": "code",
   "execution_count": 112,
   "metadata": {
    "collapsed": false
   },
   "outputs": [],
   "source": [
    "def construct_graph(use_attention=True):\n",
    "  encoder_inputs = list()\n",
    "  decoder_inputs = list()\n",
    "  labels = list()\n",
    "  weights = list() \n",
    "\n",
    "  for _ in range(MAX_INPUT_SEQUENCE_LENGTH):\n",
    "    encoder_inputs.append(tf.placeholder(tf.int32, shape=(None,)))\n",
    "  for _ in range(MAX_OUTPUT_SEQUENCE_LENGTH+1):\n",
    "    decoder_inputs.append(tf.placeholder(tf.int32, shape=(None,)))\n",
    "    labels.append(tf.placeholder(tf.int32, shape=(None,)))\n",
    "    weights.append(tf.placeholder(tf.float32, shape=(None,)))\n",
    "\n",
    "  feed_previous = tf.placeholder(tf.bool)\n",
    "  learning_rate = tf.placeholder(tf.float32)\n",
    "\n",
    "    # Use LSTM cell\n",
    "  cell = tf.nn.rnn_cell.BasicLSTMCell(lstm_size)\n",
    "  with tf.variable_scope(\"seq2seq\"):\n",
    "    if use_attention:\n",
    "      outputs, states = tf.nn.seq2seq.embedding_attention_seq2seq(encoder_inputs,\n",
    "                                                          decoder_inputs,\n",
    "                                                          cell,\n",
    "                                                          vocabulary_size, # num_encoder_symbols\n",
    "                                                          13, # num_decoder_symbols\n",
    "                                                          128, # embedding_size\n",
    "                                                          feed_previous=feed_previous # False during training, True during testing\n",
    "                                                          )\n",
    "    else: \n",
    "      outputs, states = tf.nn.seq2seq.embedding_rnn_seq2seq(encoder_inputs,\n",
    "                                                          decoder_inputs,\n",
    "                                                          cell,\n",
    "                                                          vocabulary_size, # num_encoder_symbols\n",
    "                                                          13, # num_decoder_symbols\n",
    "                                                          128, # embedding_size\n",
    "                                                          feed_previous=feed_previous # False during training, True during testing\n",
    "                                                         )\n",
    "  predictions = tf.pack([tf.nn.softmax(output) for output in outputs])\n",
    "  loss = tf.nn.seq2seq.sequence_loss(outputs, labels, weights) \n",
    "\n",
    "  tf.scalar_summary('learning rate', learning_rate)\n",
    "  tf.scalar_summary('loss', loss)\n",
    "  merged = tf.merge_all_summaries()\n",
    "\n",
    "  return encoder_inputs, decoder_inputs, labels, weights, learning_rate, feed_previous, outputs, states, loss, predictions, merged"
   ]
  },
  {
   "cell_type": "markdown",
   "metadata": {},
   "source": [
    "# Simple Seq2seq"
   ]
  },
  {
   "cell_type": "code",
   "execution_count": 115,
   "metadata": {
    "collapsed": false
   },
   "outputs": [
    {
     "name": "stdout",
     "output_type": "stream",
     "text": [
      "Test set:\n",
      "  Input            :  neural machine translation by jointly learning to align and translate\n",
      "  Correct output   :  76117285239EPPPPPPPPP\n",
      "  Generated output :  126112853298\n"
     ]
    }
   ],
   "source": [
    "graph = tf.Graph()\n",
    "with graph.as_default():\n",
    "  encoder_inputs, decoder_inputs, labels, weights, learning_rate, feed_previous, outputs, states, loss, predictions, merged = construct_graph(use_attention=False)\n",
    "  optimizer = tf.train.GradientDescentOptimizer(learning_rate).minimize(loss)\n",
    "  saver = tf.train.Saver()\n",
    "\n",
    "with tf.Session(graph=graph) as sess:\n",
    "  saver.restore(sess, \"checkpoints/20161122_model-no-attention-500000steps.ckpt\")\n",
    "   \n",
    "  test_feed_dict = dict()\n",
    "  test_batches = BatchGenerator('neural machine translation by jointly learning to align and translate', 1, length=10)\n",
    "  current_test_sequences, current_test_encoder_inputs, current_test_decoder_inputs, current_test_labels, current_test_weights = test_batches.next()\n",
    "  \n",
    "  test_feed_dict = {encoder_inputs[i]: current_test_encoder_inputs[i] for i in range(MAX_INPUT_SEQUENCE_LENGTH)}\n",
    "  \n",
    "  # feed dummy data\n",
    "  test_feed_dict.update({decoder_inputs[i]: [0] for i in range(MAX_OUTPUT_SEQUENCE_LENGTH+1)})\n",
    "  test_feed_dict.update({labels[i]: [0] for i in range(MAX_OUTPUT_SEQUENCE_LENGTH+1)})\n",
    "  test_feed_dict.update({weights[i]: [0.0] for i in range(MAX_OUTPUT_SEQUENCE_LENGTH+1)})\n",
    "  test_feed_dict.update({feed_previous: True})\n",
    "  test_feed_dict.update({learning_rate: 0.1})\n",
    "  \n",
    "  # calculate predictions\n",
    "  current_test_predictions = predictions.eval(feed_dict=test_feed_dict)\n",
    "\n",
    "  print('Test set:')\n",
    "  print('  Input            : ', current_test_sequences[0])\n",
    "  print('  Correct output   : ', ''.join([id2num(n) for n in current_test_labels.T[0]]))\n",
    "  print('  Generated output : ', gen_text(current_test_predictions))"
   ]
  },
  {
   "cell_type": "markdown",
   "metadata": {},
   "source": [
    "# Attention Seq2seq"
   ]
  },
  {
   "cell_type": "code",
   "execution_count": 111,
   "metadata": {
    "collapsed": false
   },
   "outputs": [
    {
     "name": "stdout",
     "output_type": "stream",
     "text": [
      "Test set:\n",
      "  Input            :  neural machine translation by jointly learning to align and translate\n",
      "  Correct output   :  76117285239EPPPPPPPPP\n",
      "  Generated output :  76117285236\n"
     ]
    }
   ],
   "source": [
    "graph = tf.Graph()\n",
    "with graph.as_default():\n",
    "  encoder_inputs, decoder_inputs, labels, weights, learning_rate, feed_previous, outputs, states, loss, predictions, merged = construct_graph()\n",
    "  optimizer = tf.train.GradientDescentOptimizer(learning_rate).minimize(loss)\n",
    "  saver = tf.train.Saver()\n",
    "\n",
    "with tf.Session(graph=graph) as sess:\n",
    "  saver.restore(sess, \"checkpoints/20161121_model-300000steps.ckpt\")\n",
    "   \n",
    "  test_feed_dict = dict()\n",
    "  test_batches = BatchGenerator('neural machine translation by jointly learning to align and translate', 1, length=10)\n",
    "  current_test_sequences, current_test_encoder_inputs, current_test_decoder_inputs, current_test_labels, current_test_weights = test_batches.next()\n",
    "  \n",
    "  test_feed_dict = {encoder_inputs[i]: current_test_encoder_inputs[i] for i in range(MAX_INPUT_SEQUENCE_LENGTH)}\n",
    "  \n",
    "  # feed dummy data\n",
    "  test_feed_dict.update({decoder_inputs[i]: [0] for i in range(MAX_OUTPUT_SEQUENCE_LENGTH+1)})\n",
    "  test_feed_dict.update({labels[i]: [0] for i in range(MAX_OUTPUT_SEQUENCE_LENGTH+1)})\n",
    "  test_feed_dict.update({weights[i]: [0.0] for i in range(MAX_OUTPUT_SEQUENCE_LENGTH+1)})\n",
    "  test_feed_dict.update({feed_previous: True})\n",
    "  test_feed_dict.update({learning_rate: 0.1})\n",
    "  \n",
    "  # calculate predictions\n",
    "  current_test_predictions = predictions.eval(feed_dict=test_feed_dict)\n",
    "\n",
    "  print('Test set:')\n",
    "  print('  Input            : ', current_test_sequences[0])\n",
    "  print('  Correct output   : ', ''.join([id2num(n) for n in current_test_labels.T[0]]))\n",
    "  print('  Generated output : ', gen_text(current_test_predictions))"
   ]
  },
  {
   "cell_type": "markdown",
   "metadata": {},
   "source": [
    "### Warning\n",
    "test_attentions value is obtained by hacking TensorFlow code. It is the value of all 'a' tensors in attention(query) function as below\n",
    "https://github.com/tensorflow/tensorflow/blob/r0.11/tensorflow/python/ops/seq2seq.py#L620"
   ]
  },
  {
   "cell_type": "code",
   "execution_count": 102,
   "metadata": {
    "collapsed": false
   },
   "outputs": [],
   "source": [
    "reverse_test_attentions = [arr[0][::-1] for arr in test_attentions]"
   ]
  },
  {
   "cell_type": "code",
   "execution_count": 107,
   "metadata": {
    "collapsed": false
   },
   "outputs": [],
   "source": [
    "matrix = np.array(reverse_test_attentions)[:11]"
   ]
  },
  {
   "cell_type": "code",
   "execution_count": 108,
   "metadata": {
    "collapsed": false
   },
   "outputs": [],
   "source": [
    "num_text = gen_text(current_test_predictions)"
   ]
  },
  {
   "cell_type": "code",
   "execution_count": 117,
   "metadata": {
    "collapsed": false
   },
   "outputs": [
    {
     "data": {
      "image/png": "[encoded data removed]",
      "text/plain": [
       "<matplotlib.figure.Figure at 0x11eba0860>"
      ]
     },
     "metadata": {},
     "output_type": "display_data"
    }
   ],
   "source": [
    "%matplotlib inline\n",
    "\n",
    "import matplotlib.pylab as plt\n",
    "\n",
    "fig, ax = plt.subplots()\n",
    "fig.set_size_inches(10, 10)\n",
    "fig.canvas.draw()\n",
    "ax.set_xticks(range(10))\n",
    "ax.set_xticklabels(current_test_sequences[0].split(),rotation=90, fontsize=20)\n",
    "ax.set_yticks(range(11))\n",
    "ax.set_yticklabels([n for n in num_text], fontsize=20)\n",
    "ax.imshow(matrix, interpolation='nearest', cmap=plt.cm.ocean)\n",
    "plt.show()"
   ]
  },
  {
   "cell_type": "code",
   "execution_count": null,
   "metadata": {
    "collapsed": true
   },
   "outputs": [],
   "source": []
  }
 ],
 "metadata": {
  "kernelspec": {
   "display_name": "Python 3",
   "language": "python",
   "name": "python3"
  },
  "language_info": {
   "codemirror_mode": {
    "name": "ipython",
    "version": 3
   },
   "file_extension": ".py",
   "mimetype": "text/x-python",
   "name": "python",
   "nbconvert_exporter": "python",
   "pygments_lexer": "ipython3",
   "version": "3.6.0"
  }
 },
 "nbformat": 4,
 "nbformat_minor": 0
}
